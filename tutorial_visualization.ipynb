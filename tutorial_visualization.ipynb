{
 "cells": [
  {
   "cell_type": "code",
   "execution_count": 1,
   "metadata": {},
   "outputs": [],
   "source": [
    "### How to save results for visual inspection"
   ]
  },
  {
   "cell_type": "code",
   "execution_count": 2,
   "metadata": {},
   "outputs": [],
   "source": [
    "from utils import visualization"
   ]
  },
  {
   "cell_type": "code",
   "execution_count": 3,
   "metadata": {},
   "outputs": [
    {
     "name": "stdout",
     "output_type": "stream",
     "text": [
      "Constructing model:  2D_Unet_standard\n",
      "Number of classes:  4\n",
      "Loading model from:  experiments/ACDC_training/2D_Unet_standard/model_checkpoint.pt\n",
      "Weights loaded successfully!\n",
      "Total number of parameters of model:  4320132\n",
      "Total number of trainable parameters of model:  4320132 \n",
      "\n",
      "Using per slice normalization!\n"
     ]
    }
   ],
   "source": [
    "visualization.save_models_results([\"2D_Unet_standard\"], \"ACDC_training\")"
   ]
  },
  {
   "cell_type": "code",
   "execution_count": null,
   "metadata": {},
   "outputs": [],
   "source": []
  },
  {
   "cell_type": "code",
   "execution_count": 4,
   "metadata": {},
   "outputs": [],
   "source": [
    "# to save double seg predictions\n",
    "\n",
    "import torch\n",
    "\n",
    "import general_config\n",
    "import constants\n",
    "import numpy as np\n",
    "import save_complete_nii_results\n",
    "from utils import inference\n",
    "from utils import prepare_models\n",
    "from utils.training_utils.box_utils import convert_offsets_to_bboxes, wh2corners\n",
    "from utils.training_utils import training_processing\n",
    "from utils.ROI_crop import roi_crop\n",
    "from utils.ROI_crop import predict_ROI\n",
    "from utils.training_utils import prints, training_setup\n",
    "from utils import metrics\n",
    "\n",
    "def get_double_seg_predictions(model_a, model_b, dataset, logsoft_preds=False):\n",
    "    \"\"\"\n",
    "    Args:\n",
    "    model_a: str -> model to extract ROI (standard)\n",
    "    model_b: str -> model to predict from ROI\n",
    "    dataset: str\n",
    "    \"\"\"\n",
    "    models, params_list, configs_list = prepare_models.prepare([model_a, model_b], dataset)\n",
    "    model_a, model_b = models\n",
    "    validation_loader = training_setup.prepare_val_loader(params_list[0], configs_list[0])\n",
    "    validation_loader_2 = training_setup.prepare_val_loader(params_list[1], configs_list[1])\n",
    "    \n",
    "    coords_n_scores = predict_ROI.get_segmentor_pred_coords(validation_loader, model_a, params_list[0], configs_list[0])\n",
    "    _, predictions_double_seg = predict_ROI.segment_with_computed_ROI(validation_loader_2, model_b, params_list[1], configs_list[1], coords_n_scores, logsoft_preds=logsoft_preds)\n",
    "    \n",
    "    return predictions_double_seg, validation_loader_2"
   ]
  },
  {
   "cell_type": "code",
   "execution_count": 5,
   "metadata": {
    "collapsed": true
   },
   "outputs": [
    {
     "name": "stdout",
     "output_type": "stream",
     "text": [
      "Constructing model:  DeepLab_Standard\n",
      "Number of classes:  4\n",
      "Loading model from:  experiments/ACDC_training/DeepLab_Standard/model_checkpoint.pt\n",
      "Weights loaded successfully!\n",
      "Total number of parameters of model:  2412094\n",
      "Total number of trainable parameters of model:  2412094 \n",
      "\n",
      "Constructing model:  2D_Unet_ROI\n",
      "Number of classes:  4\n",
      "Loading model from:  experiments/ACDC_training/2D_Unet_ROI/model_checkpoint.pt\n",
      "Weights loaded successfully!\n",
      "Total number of parameters of model:  4320132\n",
      "Total number of trainable parameters of model:  4320132 \n",
      "\n",
      "Dataset mean and std:  69.52275548950034 90.27520888722917\n",
      "Using per slice normalization!\n",
      "current volume dice:  [0.92374806 0.91100657 0.97581802] 0.9368575482996508\n",
      "current volume dice:  [0.82859669 0.91844213 0.97091742] 0.9059854159142487\n",
      "current volume dice:  [0.94790761 0.89493365 0.97688765] 0.9399096356886073\n",
      "current volume dice:  [0.95597562 0.89736374 0.97719388] 0.943511078843866\n",
      "current volume dice:  [0.95727067 0.88903437 0.97462758] 0.9403108758612865\n",
      "current volume dice:  [0.88942966 0.85230878 0.95236816] 0.8980355301777551\n",
      "current volume dice:  [0.95188363 0.90874476 0.97390455] 0.9448443131124319\n",
      "current volume dice:  [0.9552409  0.8756231  0.95632643] 0.929063476645806\n",
      "current volume dice:  [0.78865631 0.88671434 0.95755441] 0.8776416864276033\n",
      "current volume dice:  [0.85447316 0.91207195 0.90867159] 0.891738900551398\n",
      "current volume dice:  [0.9265892  0.91419419 0.9112426 ] 0.9173419973033488\n",
      "current volume dice:  [0.63064295 0.94996726 0.87337155] 0.8179939195316915\n",
      "current volume dice:  [0.96100196 0.91518869 0.96279671] 0.9463291215389725\n",
      "current volume dice:  [0.8867492  0.93606588 0.93233083] 0.9183819672704984\n",
      "current volume dice:  [0.9483731  0.93666442 0.95779619] 0.9476112372904986\n",
      "current volume dice:  [0.84066884 0.94528251 0.94197438] 0.909308576627834\n",
      "current volume dice:  [0.93881248 0.86786091 0.96667395] 0.9244491139416757\n",
      "current volume dice:  [0.91904762 0.89963087 0.96131995] 0.9266661442366165\n",
      "current volume dice:  [0.87824868 0.86792453 0.96489766] 0.9036902902430243\n",
      "current volume dice:  [0.89294404 0.8825589  0.97056681] 0.9153565837574399\n",
      "current volume dice:  [0.93826106 0.86795109 0.94447981] 0.9168973164775872\n",
      "current volume dice:  [0.77564637 0.89604475 0.94227554] 0.871322220533003\n",
      "current volume dice:  [0.96159564 0.91518175 0.98399662] 0.9535913369285506\n",
      "current volume dice:  [0.85747259 0.91680692 0.97433948] 0.9162063316036176\n",
      "current volume dice:  [0.96533174 0.85181347 0.96618705] 0.9277774204175399\n",
      "current volume dice:  [0.89444591 0.92086622 0.94626758] 0.9205265694894208\n",
      "current volume dice:  [0.96240602 0.88163111 0.96052448] 0.934853869129828\n",
      "current volume dice:  [0.90296663 0.93691239 0.93624907] 0.9253760282449551\n",
      "current volume dice:  [0.96532557 0.90773514 0.96973183] 0.9475975112022524\n",
      "current volume dice:  [0.86999475 0.93044869 0.94363257] 0.9146920021737849\n",
      "current volume dice:  [0.97231024 0.92089888 0.9798343 ] 0.957681136433668\n",
      "current volume dice:  [0.93885949 0.95731922 0.96623593] 0.9541382166797078\n",
      "current volume dice:  [0.94849654 0.87423718 0.95406297] 0.9255988965162496\n",
      "current volume dice:  [0.95377269 0.91328679 0.94173093] 0.9362634719092643\n",
      "current volume dice:  [0.90678773 0.83018868 0.93288731] 0.8899545721235138\n",
      "current volume dice:  [0.88718929 0.78950131 0.79113082] 0.822607141759364\n",
      "current volume dice:  [0.97559562 0.87650688 0.97047934] 0.940860611667575\n",
      "current volume dice:  [0.92486388 0.87375156 0.92251241] 0.9070426184538936\n",
      "current volume dice:  [0.94408036 0.91858297 0.96893958] 0.9438676373703618\n",
      "current volume dice:  [0.83853414 0.93539776 0.94810906] 0.9073469849295552\n",
      "Mean dice:  [0.90650492 0.89941611 0.95027117] 0.9187307326826986\n",
      "Total volumes:  40\n"
     ]
    }
   ],
   "source": [
    "double_preds, loader = get_double_seg_predictions(\"DeepLab_Standard\", \"2D_Unet_ROI\", \"ACDC_training\")"
   ]
  },
  {
   "cell_type": "code",
   "execution_count": 6,
   "metadata": {},
   "outputs": [],
   "source": [
    "visualization.save_predictions(loader, model_names=[\"DoubleSeg\"], dataset_name=\"ACDC_training\", model_pred_lists=[double_preds])"
   ]
  },
  {
   "cell_type": "code",
   "execution_count": null,
   "metadata": {},
   "outputs": [],
   "source": []
  },
  {
   "cell_type": "code",
   "execution_count": 7,
   "metadata": {},
   "outputs": [],
   "source": [
    "# saving ensemble results is similar"
   ]
  },
  {
   "cell_type": "code",
   "execution_count": 8,
   "metadata": {
    "collapsed": true
   },
   "outputs": [
    {
     "name": "stdout",
     "output_type": "stream",
     "text": [
      "Constructing model:  Deeplab_standard\n",
      "Number of classes:  4\n",
      "Loading model from:  experiments/ACDC_training/Deeplab_standard/model_checkpoint.pt\n",
      "Weights loaded successfully!\n",
      "Total number of parameters of model:  2412094\n",
      "Total number of trainable parameters of model:  2412094 \n",
      "\n",
      "Constructing model:  2D_Unet_standard\n",
      "Number of classes:  4\n",
      "Loading model from:  experiments/ACDC_training/2D_Unet_standard/model_checkpoint.pt\n",
      "Weights loaded successfully!\n",
      "Total number of parameters of model:  4320132\n",
      "Total number of trainable parameters of model:  4320132 \n",
      "\n",
      "Dataset mean and std:  69.52275548950034 90.27520888722917\n",
      "Using per slice normalization!\n"
     ]
    }
   ],
   "source": [
    "# load the model weigths, again using the previously trained example models\n",
    "models, params_list, configs_list = prepare_models.prepare([\"Deeplab_standard\", \"2D_Unet_standard\"], \"ACDC_training\")\n",
    "model_a, model_b = models\n",
    "validation_loader_a = training_setup.prepare_val_loader(params_list[0], configs_list[0])\n",
    "validation_loader_b = training_setup.prepare_val_loader(params_list[1], configs_list[1])\n",
    "\n",
    "predictions_deeplab, _ = inference.run_model_inference(validation_loader_a, model_a, params_list[0], logsoft_preds=True)\n",
    "predictions_unet, _ = inference.run_model_inference(validation_loader_b, model_b, params_list[1], logsoft_preds=True)"
   ]
  },
  {
   "cell_type": "code",
   "execution_count": 9,
   "metadata": {
    "collapsed": true
   },
   "outputs": [
    {
     "name": "stdout",
     "output_type": "stream",
     "text": [
      "Current volume dice:  [0.92808829 0.89870053 0.97159266]\n",
      "Current volume dice:  [0.83046192 0.90678258 0.9656294 ]\n",
      "Current volume dice:  [0.94288436 0.88820693 0.97793967]\n",
      "Current volume dice:  [0.95561358 0.8818305  0.97560076]\n",
      "Current volume dice:  [0.96005954 0.89618109 0.97802618]\n",
      "Current volume dice:  [0.87607362 0.86478476 0.95738979]\n",
      "Current volume dice:  [0.90919731 0.88735279 0.97329089]\n",
      "Current volume dice:  [0.94191432 0.87881286 0.95765583]\n",
      "Current volume dice:  [0.80059645 0.89832744 0.95997748]\n",
      "Current volume dice:  [0.84998072 0.90283055 0.85839987]\n",
      "Current volume dice:  [0.93429014 0.92814325 0.96487183]\n",
      "Current volume dice:  [0.68306802 0.9432475  0.84878049]\n",
      "Current volume dice:  [0.96439053 0.90982125 0.96103896]\n",
      "Current volume dice:  [0.90268849 0.92802678 0.90187562]\n",
      "Current volume dice:  [0.94731396 0.94384664 0.96837974]\n",
      "Current volume dice:  [0.86651835 0.94617099 0.94200351]\n",
      "Current volume dice:  [0.93864829 0.88459942 0.97503543]\n",
      "Current volume dice:  [0.91419476 0.90616528 0.96860148]\n",
      "Current volume dice:  [0.89644444 0.85185698 0.96588269]\n",
      "Current volume dice:  [0.74398396 0.85109923 0.94891675]\n",
      "Current volume dice:  [0.93699837 0.86024845 0.94154473]\n",
      "Current volume dice:  [0.79579366 0.90223142 0.95958069]\n",
      "Current volume dice:  [0.96457766 0.91329347 0.98032136]\n",
      "Current volume dice:  [0.91164781 0.91660827 0.97727273]\n",
      "Current volume dice:  [0.96578476 0.84521089 0.96796809]\n",
      "Current volume dice:  [0.93887903 0.91594085 0.94454383]\n",
      "Current volume dice:  [0.94851511 0.8978684  0.96335664]\n",
      "Current volume dice:  [0.91859737 0.93571234 0.92804699]\n",
      "Current volume dice:  [0.96751955 0.90448382 0.9699011 ]\n",
      "Current volume dice:  [0.85987725 0.93661262 0.9591987 ]\n",
      "Current volume dice:  [0.96384197 0.93591136 0.97781275]\n",
      "Current volume dice:  [0.94245912 0.95832601 0.97057605]\n",
      "Current volume dice:  [0.95224241 0.87232548 0.96264598]\n",
      "Current volume dice:  [0.90844725 0.8941574  0.92421899]\n",
      "Current volume dice:  [0.89643311 0.84297521 0.94939657]\n",
      "Current volume dice:  [0.89491062 0.82138132 0.83326298]\n",
      "Current volume dice:  [0.97744622 0.88185534 0.97771615]\n",
      "Current volume dice:  [0.92233054 0.86729212 0.91534942]\n",
      "Current volume dice:  [0.90256153 0.9243487  0.97144246]\n",
      "Current volume dice:  [0.83890257 0.93572719 0.9530316 ]\n",
      "Final validation results:  [0.90485442 0.89898245 0.95120192] 0.9183462646373641\n"
     ]
    }
   ],
   "source": [
    "# finally, ensemble standard models\n",
    "logsoftmax_volumes = [predictions_unet, predictions_deeplab]\n",
    "combined_volumes = inference.ensemble_inference(logsoftmax_volumes, validation_loader_a)"
   ]
  },
  {
   "cell_type": "code",
   "execution_count": 12,
   "metadata": {},
   "outputs": [],
   "source": [
    "visualization.save_predictions(loader, model_names=[\"Ensemble\"], dataset_name=\"ACDC_training\", model_pred_lists=[combined_volumes])"
   ]
  },
  {
   "cell_type": "code",
   "execution_count": null,
   "metadata": {},
   "outputs": [],
   "source": []
  }
 ],
 "metadata": {
  "kernelspec": {
   "display_name": "Python 3",
   "language": "python",
   "name": "python3"
  },
  "language_info": {
   "codemirror_mode": {
    "name": "ipython",
    "version": 3
   },
   "file_extension": ".py",
   "mimetype": "text/x-python",
   "name": "python",
   "nbconvert_exporter": "python",
   "pygments_lexer": "ipython3",
   "version": "3.7.6"
  }
 },
 "nbformat": 4,
 "nbformat_minor": 4
}
