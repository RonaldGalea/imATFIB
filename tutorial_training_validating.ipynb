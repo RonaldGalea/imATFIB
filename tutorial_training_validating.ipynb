{
 "cells": [
  {
   "cell_type": "code",
   "execution_count": null,
   "metadata": {},
   "outputs": [],
   "source": [
    "\"\"\"\n",
    "Experiment folders are places in experiments/dataset_name\n",
    "\n",
    "Every model needs to have an experiment folder, which has to have three files:\n",
    "config.json\n",
    "params.json\n",
    "stats.json"
   ]
  },
  {
   "cell_type": "code",
   "execution_count": null,
   "metadata": {},
   "outputs": [],
   "source": [
    "\"\"\"\n",
    "\n",
    "config.json explanation and example\n",
    "\n",
    "{\n",
    "  \"model_id\": \"2D_Unet\",\n",
    "  \"dataset\": \"imatfib-whs\",\n",
    "  \"evaluation_step\": 10,\n",
    "  \"statistics_print_step\": 3,\n",
    "  \"visualize_dataset\": false,\n",
    "  \"seg_type\": \"whole-heart\"\n",
    "}\n",
    "\n",
    "model_id -> id of one of implemented models: 2D_Unet or ResNeXt_DeepLabV3_plus\n",
    "dataset -> dataset name\n",
    "evaluation_step -> after how many epochs to perform evaluation\n",
    "statistics_print_step -> statistics are printed after every (#batches / statistics_print_step) batches are processed. A value of\n",
    "10 means there will be 10 stats prints per epoch\n",
    "visualize_dataset -> shows samples of the data samples if true\n",
    "seg_type -> whole-heart (for imATFIB) or multiple_classes (ACDC)\n",
    "\n",
    "\"\"\""
   ]
  },
  {
   "cell_type": "code",
   "execution_count": null,
   "metadata": {},
   "outputs": [],
   "source": [
    "\"\"\"\n",
    "\n",
    "params.json explanation and example\n",
    "\n",
    "{\n",
    "\n",
    "### necessary for each training\n",
    "\n",
    "\"learning_rate\": 0.001,\n",
    "\"batch_size\": 16,\n",
    "\"n_epochs\": 300,\n",
    "\"default_height\": 480,\n",
    "\"default_width\": 480,\n",
    "\"k_split\": 5,\n",
    "\"norm_type\": \"per_slice\",\n",
    "\"data_augmentation\": \"heavy\",\n",
    "\"optimizer\": \"adam\",\n",
    "\"weight_decay\": 0.0001,\n",
    "\"lr_decay\": \"divide\",\n",
    "\"first_decay\": 180,\n",
    "\"second_decay\": 270,\n",
    "\n",
    "###\n",
    "\n",
    "### Situational options\n",
    "\n",
    "### if ROI crop is wanted\n",
    "\n",
    "\"roi_crop\": \"relative\",\n",
    "\"roi_height\": 224,\n",
    "\"roi_width\": 224,\n",
    "\n",
    "###\n",
    "\n",
    "\n",
    "### settings for DeepLab\n",
    "\n",
    "\"use_aspp\": false,\n",
    "\"replace_stride\": [false, false, true],\n",
    "\"layer_count\": [3, 4, 6, 3],\n",
    "\n",
    "###\n",
    "\n",
    "\"random_crop_scale\": [1, 1],\n",
    "\"random_crop_ratio\": [0.9, 1.1],\n",
    "\"shrinking_factor\": 3.2,\n",
    "\"seqtrain\": false\n",
    "\n",
    "### transfer learning\n",
    "\n",
    "\"load_type\": \"transfer_learning\",\n",
    "\"freeze_type\": \"all_layers\",\n",
    "\n",
    "###\n",
    "\n",
    "### ROI detection with double segmentation\n",
    "\n",
    "\"err_margin\": 10,\n",
    "\"relative_roi_perturbation\": [5, 20],\n",
    "\"use_min_size\": true,\n",
    "\n",
    "###\n",
    "\n",
    "\n",
    "}\n",
    "\n",
    "default width and height -> dimensions for the samples to be resized for Standard models\n",
    "k_split -> split factor of the dataset to construct train and val sets, every kth element goes to validation\n",
    "norm_type -> per_slice or per_dataset\n",
    "data_augmentation -> heavy, simple, or no_aug\n",
    "first and second decay -> epoch number when learning rate is divided by 10\n",
    "\n",
    "roi_crop -> no_roi or relative\n",
    "ROI width and height -> dimensions for the ROI to be resized for ROI models\n",
    "\n",
    "random crop scale and ratio -> if scale is [1, 1], random crop is not used\n",
    "seqtrain -> sample training data sequentially if true\n",
    "shrinking_factor -> value to divide filters in model (affects width)\n",
    "\n",
    "layer_count -> number of ResNet blocks in the backbone [3, 4, 6, 3]\n",
    "replace_stride -> replace stride with dilation for a DeepLab model\n",
    "\n",
    "\n",
    "load_type -> load_simple or transfer_learning\n",
    "load_simple expects weight dicts to match exactly\n",
    "transfer_learning allows differences (such as how  the number of filters in the classifier layer could differ)\n",
    "freeze_type -> all_layers or classifier_layer, both start by freezing all layers except the classifier one\n",
    "all_layers - will progressively unfreeze all layers until 50% of epochs are done\n",
    "classifier_layer - will unfreeze everything at once at the 50% mark\n",
    "\n",
    "\n",
    "err_margin -> used when using a standard model for double segmentation - the ROI box is extended by the size / err_margin\n",
    "relative_roi_perturbation -> min and max thresholds for perturbation during ROI training\n",
    "use_min_size -> impose minimum size for ROI box\n",
    "\n",
    "\n",
    "\"\"\""
   ]
  },
  {
   "cell_type": "code",
   "execution_count": null,
   "metadata": {},
   "outputs": [],
   "source": [
    "\"\"\"\n",
    "\n",
    "stats.json explanation and example\n",
    "\n",
    "{\n",
    "    \"val\": 0.9007861306484212,\n",
    "    \"train\": 0.9337235098611413\n",
    "}\n",
    "\n",
    "val -> mean dice on the validation set\n",
    "train -> mean dice on the training set\n",
    "\n",
    "\n",
    "\"\"\""
   ]
  },
  {
   "cell_type": "code",
   "execution_count": null,
   "metadata": {},
   "outputs": [],
   "source": []
  },
  {
   "cell_type": "code",
   "execution_count": null,
   "metadata": {},
   "outputs": [],
   "source": [
    "# Standard training example: once the experiment folder is set up, training can begin\n",
    "import main\n",
    "main.main(dataset_name=\"ACDC_training\", experiment_name=\"2D_Unet_standard_example\", train_model=True)"
   ]
  },
  {
   "cell_type": "code",
   "execution_count": null,
   "metadata": {},
   "outputs": [],
   "source": []
  },
  {
   "cell_type": "code",
   "execution_count": null,
   "metadata": {},
   "outputs": [],
   "source": [
    "# to simply evaluate a model on the validation set, add load_type to params\n",
    "import main\n",
    "main.main(dataset_name=\"ACDC_training\", experiment_name=\"2D_Unet_standard_example\", evaluate_model=True)"
   ]
  },
  {
   "cell_type": "code",
   "execution_count": null,
   "metadata": {},
   "outputs": [],
   "source": []
  },
  {
   "cell_type": "code",
   "execution_count": null,
   "metadata": {},
   "outputs": [],
   "source": [
    "# to view training charts\n",
    "%load_ext tensorboard\n",
    "%tensorboard --logdir=segmentors"
   ]
  },
  {
   "cell_type": "code",
   "execution_count": null,
   "metadata": {},
   "outputs": [],
   "source": []
  },
  {
   "cell_type": "code",
   "execution_count": null,
   "metadata": {},
   "outputs": [],
   "source": [
    "# to compute mean and std of the dataset\n",
    "import main\n",
    "main.main(dataset_name=\"ACDC_training\", experiment_name=\"2D_Unet_standard_example\", compute_dset_mean_std=True)"
   ]
  },
  {
   "cell_type": "code",
   "execution_count": null,
   "metadata": {},
   "outputs": [],
   "source": []
  },
  {
   "cell_type": "code",
   "execution_count": null,
   "metadata": {},
   "outputs": [],
   "source": [
    "# running a different standard model\n",
    "import main\n",
    "main.main(dataset_name=\"ACDC_training\", experiment_name=\"Deeplab_standard_example\", train_model=True)"
   ]
  },
  {
   "cell_type": "code",
   "execution_count": null,
   "metadata": {},
   "outputs": [],
   "source": []
  },
  {
   "cell_type": "code",
   "execution_count": null,
   "metadata": {},
   "outputs": [],
   "source": [
    "# running an ROI training, create a new experiment folder and add the ROI crop settings\n",
    "import main\n",
    "main.main(dataset_name=\"ACDC_training\", experiment_name=\"Deeplab_ROI_example\", train_model=True)"
   ]
  },
  {
   "cell_type": "code",
   "execution_count": null,
   "metadata": {},
   "outputs": [],
   "source": []
  }
 ],
 "metadata": {
  "kernelspec": {
   "display_name": "Python 3",
   "language": "python",
   "name": "python3"
  },
  "language_info": {
   "codemirror_mode": {
    "name": "ipython",
    "version": 3
   },
   "file_extension": ".py",
   "mimetype": "text/x-python",
   "name": "python",
   "nbconvert_exporter": "python",
   "pygments_lexer": "ipython3",
   "version": "3.7.6"
  }
 },
 "nbformat": 4,
 "nbformat_minor": 4
}
